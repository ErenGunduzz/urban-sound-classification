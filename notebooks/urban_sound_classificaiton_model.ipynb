{
 "cells": [
  {
   "cell_type": "code",
   "execution_count": 1,
   "id": "c02cb5c0",
   "metadata": {},
   "outputs": [],
   "source": [
    "import numpy as np\n",
    "import tensorflow as tf\n",
    "from tensorflow import keras\n",
    "from tensorflow.keras.models import Sequential\n",
    "from tensorflow.keras.layers import Dense,Dropout,Activation,Flatten, Conv2D, Input, MaxPooling2D\n",
    "from tensorflow.keras.models import Model\n",
    "from tensorflow.keras.optimizers import Adam\n",
    "from sklearn import metrics"
   ]
  },
  {
   "cell_type": "code",
   "execution_count": 2,
   "id": "99520687",
   "metadata": {},
   "outputs": [],
   "source": [
    "X_train = np.load(r\"C:\\Users\\asus\\Desktop\\spectrograms\\data\\X_train.npy\")\n",
    "X_test = np.load(r\"C:\\Users\\asus\\Desktop\\spectrograms\\data\\X_test.npy\")\n",
    "y_train = np.load(r\"C:\\Users\\asus\\Desktop\\spectrograms\\data\\y_train.npy\")\n",
    "y_test = np.load(r\"C:\\Users\\asus\\Desktop\\spectrograms\\data\\y_test.npy\")\n",
    "X_val = np.load(r\"C:\\Users\\asus\\Desktop\\spectrograms\\data\\X_val.npy\")\n",
    "y_val = np.load(r\"C:\\Users\\asus\\Desktop\\spectrograms\\data\\y_val.npy\")"
   ]
  },
  {
   "cell_type": "code",
   "execution_count": 3,
   "id": "52975997",
   "metadata": {},
   "outputs": [
    {
     "data": {
      "text/plain": [
       "(5238, 10)"
      ]
     },
     "execution_count": 3,
     "metadata": {},
     "output_type": "execute_result"
    }
   ],
   "source": [
    "y_train.shape"
   ]
  },
  {
   "cell_type": "code",
   "execution_count": 4,
   "id": "a46e1a6c",
   "metadata": {},
   "outputs": [],
   "source": [
    "IMAGE_HEIGHT = 128\n",
    "IMAGE_WIDTH = 128\n",
    "IMAGE_CHANNELS = 1\n",
    "num_labels = y_train.shape[1]"
   ]
  },
  {
   "cell_type": "code",
   "execution_count": 12,
   "id": "a678a3f1",
   "metadata": {},
   "outputs": [],
   "source": [
    "inputs = Input((IMAGE_HEIGHT, IMAGE_WIDTH, IMAGE_CHANNELS))\n",
    "x = Conv2D(8, kernel_size=(7,7), activation='tanh', padding='same', name='conv2d_tanh')(inputs)\n",
    "x = MaxPooling2D(pool_size=(2,2), padding='same', name='max_pool_2d_1')(x)\n",
    "x = Conv2D(16, kernel_size=(5,5), activation='relu', padding='same', name='conv2d_relu_1')(x)\n",
    "x = MaxPooling2D(pool_size=(2,2), padding='same', name='max_pool_2d_2')(x)\n",
    "x = Conv2D(16, kernel_size=(3,3), activation='relu', padding='same', name='conv2d_relu_2')(x)\n",
    "x = MaxPooling2D(pool_size=(2,2), padding='same', name='max._pool_2d_3')(x)\n",
    "x = Conv2D(32, kernel_size=(3,3), activation='relu', padding='same', name='conv2d_relu_3')(x)\n",
    "x = MaxPooling2D(pool_size=(2,2), padding='same', name='max_pool_2d_4')(x)\n",
    "x = Conv2D(32, kernel_size=(3,3), activation='relu', padding='same', name='conv2d_relu_4')(x)\n",
    "x = Flatten(name='flatten')(x)\n",
    "x = Dropout(rate=0.2, name='dropout')(x)\n",
    "x = Dense(64, activation='relu')(x)\n",
    "o = Dense(num_labels, activation='softmax')(x)\n",
    "model = Model(inputs=inputs, outputs=o, name='2d_convolution')"
   ]
  },
  {
   "cell_type": "code",
   "execution_count": 13,
   "id": "ee61e926",
   "metadata": {},
   "outputs": [
    {
     "name": "stdout",
     "output_type": "stream",
     "text": [
      "Model: \"2d_convolution\"\n",
      "_________________________________________________________________\n",
      " Layer (type)                Output Shape              Param #   \n",
      "=================================================================\n",
      " input_2 (InputLayer)        [(None, 128, 128, 1)]     0         \n",
      "                                                                 \n",
      " conv2d_tanh (Conv2D)        (None, 128, 128, 8)       400       \n",
      "                                                                 \n",
      " max_pool_2d_1 (MaxPooling2D  (None, 64, 64, 8)        0         \n",
      " )                                                               \n",
      "                                                                 \n",
      " conv2d_relu_1 (Conv2D)      (None, 64, 64, 16)        3216      \n",
      "                                                                 \n",
      " max_pool_2d_2 (MaxPooling2D  (None, 32, 32, 16)       0         \n",
      " )                                                               \n",
      "                                                                 \n",
      " conv2d_relu_2 (Conv2D)      (None, 32, 32, 16)        2320      \n",
      "                                                                 \n",
      " max._pool_2d_3 (MaxPooling2  (None, 16, 16, 16)       0         \n",
      " D)                                                              \n",
      "                                                                 \n",
      " conv2d_relu_3 (Conv2D)      (None, 16, 16, 32)        4640      \n",
      "                                                                 \n",
      " max_pool_2d_4 (MaxPooling2D  (None, 8, 8, 32)         0         \n",
      " )                                                               \n",
      "                                                                 \n",
      " conv2d_relu_4 (Conv2D)      (None, 8, 8, 32)          9248      \n",
      "                                                                 \n",
      " flatten (Flatten)           (None, 2048)              0         \n",
      "                                                                 \n",
      " dropout (Dropout)           (None, 2048)              0         \n",
      "                                                                 \n",
      " dense_2 (Dense)             (None, 64)                131136    \n",
      "                                                                 \n",
      " dense_3 (Dense)             (None, 10)                650       \n",
      "                                                                 \n",
      "=================================================================\n",
      "Total params: 151,610\n",
      "Trainable params: 151,610\n",
      "Non-trainable params: 0\n",
      "_________________________________________________________________\n"
     ]
    }
   ],
   "source": [
    "model.summary()"
   ]
  },
  {
   "cell_type": "code",
   "execution_count": 14,
   "id": "90e3eb3e",
   "metadata": {},
   "outputs": [],
   "source": [
    "model.compile(loss='categorical_crossentropy',metrics=['accuracy'],optimizer='adam')"
   ]
  },
  {
   "cell_type": "code",
   "execution_count": 15,
   "id": "654a0d94",
   "metadata": {},
   "outputs": [],
   "source": [
    "EPOCHS = 25\n",
    "BATCH_SIZE  = 32"
   ]
  },
  {
   "cell_type": "code",
   "execution_count": 16,
   "id": "52e2fdfe",
   "metadata": {},
   "outputs": [
    {
     "name": "stdout",
     "output_type": "stream",
     "text": [
      "Epoch 1/25\n",
      "100/100 [==============================] - 4s 34ms/step - loss: 1.6725 - accuracy: 0.3797 - val_loss: 1.4210 - val_accuracy: 0.5220\n",
      "Epoch 2/25\n",
      "100/100 [==============================] - 3s 29ms/step - loss: 1.2415 - accuracy: 0.5677 - val_loss: 1.1207 - val_accuracy: 0.6463\n",
      "Epoch 3/25\n",
      "100/100 [==============================] - 3s 28ms/step - loss: 0.9813 - accuracy: 0.6647 - val_loss: 1.0080 - val_accuracy: 0.6795\n",
      "Epoch 4/25\n",
      "100/100 [==============================] - 3s 28ms/step - loss: 0.7774 - accuracy: 0.7480 - val_loss: 0.8880 - val_accuracy: 0.7172\n",
      "Epoch 5/25\n",
      "100/100 [==============================] - 3s 29ms/step - loss: 0.7454 - accuracy: 0.7549 - val_loss: 0.8077 - val_accuracy: 0.7527\n",
      "Epoch 6/25\n",
      "100/100 [==============================] - 3s 28ms/step - loss: 0.6355 - accuracy: 0.7809 - val_loss: 0.7548 - val_accuracy: 0.7865\n",
      "Epoch 7/25\n",
      "100/100 [==============================] - 3s 28ms/step - loss: 0.5772 - accuracy: 0.8144 - val_loss: 0.6412 - val_accuracy: 0.8140\n",
      "Epoch 8/25\n",
      "100/100 [==============================] - 3s 28ms/step - loss: 0.4824 - accuracy: 0.8447 - val_loss: 0.6705 - val_accuracy: 0.8054\n",
      "Epoch 9/25\n",
      "100/100 [==============================] - 3s 28ms/step - loss: 0.4608 - accuracy: 0.8495 - val_loss: 0.5982 - val_accuracy: 0.8248\n",
      "Epoch 10/25\n",
      "100/100 [==============================] - 3s 29ms/step - loss: 0.3919 - accuracy: 0.8708 - val_loss: 0.6730 - val_accuracy: 0.8145\n",
      "Epoch 11/25\n",
      "100/100 [==============================] - 3s 28ms/step - loss: 0.3366 - accuracy: 0.8859 - val_loss: 0.5908 - val_accuracy: 0.8185\n",
      "Epoch 12/25\n",
      "100/100 [==============================] - 3s 28ms/step - loss: 0.3026 - accuracy: 0.8981 - val_loss: 0.5625 - val_accuracy: 0.8443\n",
      "Epoch 13/25\n",
      "100/100 [==============================] - 3s 28ms/step - loss: 0.2910 - accuracy: 0.9044 - val_loss: 0.5910 - val_accuracy: 0.8346\n",
      "Epoch 14/25\n",
      "100/100 [==============================] - 3s 28ms/step - loss: 0.2278 - accuracy: 0.9197 - val_loss: 0.5854 - val_accuracy: 0.8426\n",
      "Epoch 15/25\n",
      "100/100 [==============================] - 3s 28ms/step - loss: 0.2354 - accuracy: 0.9226 - val_loss: 0.5567 - val_accuracy: 0.8609\n",
      "Epoch 16/25\n",
      "100/100 [==============================] - 3s 28ms/step - loss: 0.2009 - accuracy: 0.9300 - val_loss: 0.6561 - val_accuracy: 0.8443\n",
      "Epoch 17/25\n",
      "100/100 [==============================] - 3s 28ms/step - loss: 0.1795 - accuracy: 0.9408 - val_loss: 0.5794 - val_accuracy: 0.8666\n",
      "Epoch 18/25\n",
      "100/100 [==============================] - 3s 28ms/step - loss: 0.1861 - accuracy: 0.9350 - val_loss: 0.6133 - val_accuracy: 0.8546\n",
      "Epoch 19/25\n",
      "100/100 [==============================] - 3s 28ms/step - loss: 0.1751 - accuracy: 0.9423 - val_loss: 0.5600 - val_accuracy: 0.8672\n",
      "Epoch 20/25\n",
      "100/100 [==============================] - 3s 28ms/step - loss: 0.1429 - accuracy: 0.9486 - val_loss: 0.6156 - val_accuracy: 0.8540\n",
      "Epoch 21/25\n",
      "100/100 [==============================] - 3s 28ms/step - loss: 0.1389 - accuracy: 0.9547 - val_loss: 0.6062 - val_accuracy: 0.8758\n",
      "Epoch 22/25\n",
      "100/100 [==============================] - 3s 29ms/step - loss: 0.0961 - accuracy: 0.9658 - val_loss: 0.6535 - val_accuracy: 0.8643\n",
      "Epoch 23/25\n",
      "100/100 [==============================] - 3s 29ms/step - loss: 0.1135 - accuracy: 0.9580 - val_loss: 0.6447 - val_accuracy: 0.8752\n",
      "Epoch 24/25\n",
      "100/100 [==============================] - 3s 28ms/step - loss: 0.1143 - accuracy: 0.9613 - val_loss: 0.6251 - val_accuracy: 0.8786\n",
      "Epoch 25/25\n",
      "100/100 [==============================] - 3s 28ms/step - loss: 0.1134 - accuracy: 0.9555 - val_loss: 0.6440 - val_accuracy: 0.8804\n"
     ]
    }
   ],
   "source": [
    "history = model.fit(X_train, y_train,\n",
    "                    epochs=EPOCHS,\n",
    "                    batch_size = BATCH_SIZE,\n",
    "                    validation_data=(X_val, y_val), \n",
    "                    steps_per_epoch= 100)"
   ]
  },
  {
   "cell_type": "code",
   "execution_count": 17,
   "id": "56cc2c72",
   "metadata": {},
   "outputs": [
    {
     "data": {
      "text/plain": [
       "Text(0.5, 1.0, 'Training and Validation Accuracy')"
      ]
     },
     "execution_count": 17,
     "metadata": {},
     "output_type": "execute_result"
    },
    {
     "data": {
      "image/png": "[encoded data removed]",
      "text/plain": [
       "<Figure size 576x576 with 1 Axes>"
      ]
     },
     "metadata": {
      "needs_background": "light"
     },
     "output_type": "display_data"
    }
   ],
   "source": [
    "import matplotlib.pyplot as plt\n",
    "\n",
    "acc = history.history['accuracy']\n",
    "val_acc = history.history['val_accuracy']\n",
    "\n",
    "loss = history.history['loss']\n",
    "val_loss = history.history['val_loss']\n",
    "\n",
    "plt.figure(figsize=(8, 8))\n",
    "\n",
    "plt.plot(acc, label='Training Accuracy')\n",
    "plt.plot(val_acc, label='Validation Accuracy')\n",
    "plt.legend(loc='lower right')\n",
    "plt.ylabel('Accuracy')\n",
    "plt.ylim([min(plt.ylim()),1])\n",
    "plt.title('Training and Validation Accuracy')\n"
   ]
  },
  {
   "cell_type": "code",
   "execution_count": 18,
   "id": "a023f7c1",
   "metadata": {},
   "outputs": [
    {
     "name": "stdout",
     "output_type": "stream",
     "text": [
      "55/55 [==============================] - 1s 15ms/step - loss: 0.5009 - accuracy: 0.8838\n",
      "Test accuracy : 0.8838008046150208\n"
     ]
    }
   ],
   "source": [
    "loss, accuracy = model.evaluate(X_test, y_test)\n",
    "print('Test accuracy :', accuracy)"
   ]
  },
  {
   "cell_type": "code",
   "execution_count": null,
   "id": "3b0004d8",
   "metadata": {},
   "outputs": [],
   "source": []
  }
 ],
 "metadata": {
  "kernelspec": {
   "display_name": "Python 3 (ipykernel)",
   "language": "python",
   "name": "python3"
  },
  "language_info": {
   "codemirror_mode": {
    "name": "ipython",
    "version": 3
   },
   "file_extension": ".py",
   "mimetype": "text/x-python",
   "name": "python",
   "nbconvert_exporter": "python",
   "pygments_lexer": "ipython3",
   "version": "3.8.13"
  }
 },
 "nbformat": 4,
 "nbformat_minor": 5
}
